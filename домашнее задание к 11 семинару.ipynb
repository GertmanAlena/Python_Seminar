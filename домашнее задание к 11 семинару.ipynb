{
 "cells": [
  {
   "cell_type": "code",
   "execution_count": 8,
   "id": "223cd153",
   "metadata": {},
   "outputs": [],
   "source": [
    "from sympy import Symbol\n",
    "from sympy import solveset,nonlinsolve,Linsolve,maximum,minimum,evalf,solve\n",
    "from sympy import cos,sin,pi,atan,log\n",
    "from sympy import plot,pprint\n",
    "from sympy import is_increasing,is_decreasing,is_monotonic\n",
    "from sympy import S, Interval,"
   ]
  },
  {
   "cell_type": "markdown",
   "id": "8d5dc243",
   "metadata": {},
   "source": [
    "f(x) = -12x^4*sin(cos(x)) - 18x^3+5x^2 + 10x - 30\n",
    "\n",
    "Определить корни\n",
    "\n",
    "Найти интервалы, на которых функция возрастает\n",
    "\n",
    "Найти интервалы, на которых функция убывает\n",
    "\n",
    "Построить график\n",
    "\n",
    "Вычислить вершину\n",
    "\n",
    "Определить промежутки, на котором f > 0\n",
    "\n",
    "Определить промежутки, на котором f < 0"
   ]
  },
  {
   "cell_type": "markdown",
   "id": "f128fb38",
   "metadata": {},
   "source": [
    "функция\n"
   ]
  },
  {
   "cell_type": "code",
   "execution_count": 14,
   "id": "f64974dd",
   "metadata": {},
   "outputs": [
    {
     "data": {
      "text/latex": [
       "$\\displaystyle \\left(\\frac{\\sin{\\left(x \\right)}}{2} + \\frac{\\cos{\\left(x \\right)}}{2}\\right)^{2} \\sin{\\left(x \\right)}$"
      ],
      "text/plain": [
       "(sin(x)/2 + cos(x)/2)**2*sin(x)"
      ]
     },
     "execution_count": 14,
     "metadata": {},
     "output_type": "execute_result"
    }
   ],
   "source": [
    "x=Symbol('x',real=True)\n",
    "y=((sin(x)/2+cos(x)/2)**2)*sin(x)\n",
    "y"
   ]
  },
  {
   "cell_type": "markdown",
   "id": "6226cca0",
   "metadata": {},
   "source": [
    "опеделить корни"
   ]
  },
  {
   "cell_type": "code",
   "execution_count": 15,
   "id": "2557c927",
   "metadata": {},
   "outputs": [
    {
     "data": {
      "text/plain": [
       "[0, -pi/4, 3*pi/4, pi]"
      ]
     },
     "execution_count": 15,
     "metadata": {},
     "output_type": "execute_result"
    }
   ],
   "source": [
    "rezult=solve(y,xdomain=S.Reals)\n",
    "rezult"
   ]
  },
  {
   "cell_type": "code",
   "execution_count": 16,
   "id": "456a4ffd",
   "metadata": {},
   "outputs": [
    {
     "data": {
      "text/latex": [
       "$\\displaystyle \\left\\{2 n \\pi\\; \\middle|\\; n \\in \\mathbb{Z}\\right\\} \\cup \\left\\{2 n \\pi + \\pi\\; \\middle|\\; n \\in \\mathbb{Z}\\right\\} \\cup \\left\\{2 n \\pi + \\frac{3 \\pi}{4}\\; \\middle|\\; n \\in \\mathbb{Z}\\right\\} \\cup \\left\\{2 n \\pi + \\frac{7 \\pi}{4}\\; \\middle|\\; n \\in \\mathbb{Z}\\right\\}$"
      ],
      "text/plain": [
       "Union(ImageSet(Lambda(_n, 2*_n*pi + 3*pi/4), Integers), ImageSet(Lambda(_n, 2*_n*pi + 7*pi/4), Integers), ImageSet(Lambda(_n, 2*_n*pi + pi), Integers), ImageSet(Lambda(_n, 2*_n*pi), Integers))"
      ]
     },
     "execution_count": 16,
     "metadata": {},
     "output_type": "execute_result"
    }
   ],
   "source": [
    "solveset(y,x,domain=S.Reals)"
   ]
  },
  {
   "cell_type": "markdown",
   "id": "3f15cc4f",
   "metadata": {},
   "source": [
    "вычисление производной"
   ]
  },
  {
   "cell_type": "code",
   "execution_count": 18,
   "id": "87dc2bd7",
   "metadata": {},
   "outputs": [
    {
     "data": {
      "text/latex": [
       "$\\displaystyle \\left(- \\sin{\\left(x \\right)} + \\cos{\\left(x \\right)}\\right) \\left(\\frac{\\sin{\\left(x \\right)}}{2} + \\frac{\\cos{\\left(x \\right)}}{2}\\right) \\sin{\\left(x \\right)} + \\left(\\frac{\\sin{\\left(x \\right)}}{2} + \\frac{\\cos{\\left(x \\right)}}{2}\\right)^{2} \\cos{\\left(x \\right)}$"
      ],
      "text/plain": [
       "(-sin(x) + cos(x))*(sin(x)/2 + cos(x)/2)*sin(x) + (sin(x)/2 + cos(x)/2)**2*cos(x)"
      ]
     },
     "execution_count": 18,
     "metadata": {},
     "output_type": "execute_result"
    }
   ],
   "source": [
    "yd=y.diff(x)\n",
    "yd"
   ]
  },
  {
   "cell_type": "markdown",
   "id": "d120290c",
   "metadata": {},
   "source": [
    "построение графика"
   ]
  },
  {
   "cell_type": "code",
   "execution_count": 23,
   "id": "5b751bed",
   "metadata": {},
   "outputs": [
    {
     "data": {
      "image/png": "[encoded data removed]",
      "text/plain": [
       "<Figure size 432x288 with 1 Axes>"
      ]
     },
     "metadata": {
      "needs_background": "light"
     },
     "output_type": "display_data"
    }
   ],
   "source": [
    "grefik=plot(y,(x,-pi,pi))"
   ]
  },
  {
   "cell_type": "markdown",
   "id": "0417b679",
   "metadata": {},
   "source": [
    "возрастание функции и убывание"
   ]
  },
  {
   "cell_type": "code",
   "execution_count": 25,
   "id": "f7b3dfcf",
   "metadata": {},
   "outputs": [
    {
     "name": "stdout",
     "output_type": "stream",
     "text": [
      "-0.79 \t -pi/4\n",
      "2.36 \t 3*pi/4\n",
      "-2.08 \t -2*atan(-3/2 + sqrt(6)*sqrt(5 - sqrt(17))/2 + sqrt(17)/2)\n",
      "2.87 \t 2*atan(3/2 + sqrt(17)/2 + sqrt(6)*sqrt(sqrt(17) + 5)/2)\n",
      "1.06 \t 2*atan(-sqrt(17)/2 + sqrt(6)*sqrt(5 - sqrt(17))/2 + 3/2)\n",
      "-0.27 \t 2*atan(-sqrt(6)*sqrt(sqrt(17) + 5)/2 + 3/2 + sqrt(17)/2)\n"
     ]
    }
   ],
   "source": [
    "rez_solve_yd=solve(yd,x)\n",
    "for i in rez_solve_yd:\n",
    "    print(round(i.evalf(),2), \"\\t\",i)"
   ]
  },
  {
   "cell_type": "markdown",
   "id": "e718c084",
   "metadata": {},
   "source": [
    "обозначаем отрезки"
   ]
  },
  {
   "cell_type": "code",
   "execution_count": 27,
   "id": "f40a3a05",
   "metadata": {},
   "outputs": [
    {
     "name": "stdout",
     "output_type": "stream",
     "text": [
      "-3.14 \t -pi\n",
      "-2.08 \t -2*atan(-3/2 + sqrt(6)*sqrt(5 - sqrt(17))/2 + sqrt(17)/2)\n",
      "-0.79 \t -pi/4\n",
      "-0.27 \t 2*atan(-sqrt(6)*sqrt(sqrt(17) + 5)/2 + 3/2 + sqrt(17)/2)\n",
      "1.06 \t 2*atan(-sqrt(17)/2 + sqrt(6)*sqrt(5 - sqrt(17))/2 + 3/2)\n",
      "2.36 \t 3*pi/4\n",
      "2.87 \t 2*atan(3/2 + sqrt(17)/2 + sqrt(6)*sqrt(sqrt(17) + 5)/2)\n",
      "3.14 \t pi\n"
     ]
    }
   ],
   "source": [
    "if rez_solve_yd[-1]!=pi:\n",
    "    rez_solve_yd.append(pi)\n",
    "if rez_solve_yd[0]!=-pi:\n",
    "    rez_solve_yd.insert(0,-pi)\n",
    "rez_solve_yd.sort()\n",
    "for i in rez_solve_yd:\n",
    "    print(round(i.evalf(),2), \"\\t\",i)\n",
    "    \n"
   ]
  },
  {
   "cell_type": "markdown",
   "id": "724fc259",
   "metadata": {},
   "source": [
    "интервалы на которых функция возрастает и убывает"
   ]
  },
  {
   "cell_type": "code",
   "execution_count": 31,
   "id": "f7e7bed6",
   "metadata": {},
   "outputs": [
    {
     "name": "stdout",
     "output_type": "stream",
     "text": [
      "на отрезке (-3.14:-2.08функция убывает\n",
      "на отрезке (-2.08:-0.79функция возрастает\n",
      "на отрезке (-0.79:-0.27функция убывает\n",
      "на отрезке (-0.27:1.06функция возрастает\n",
      "на отрезке (1.06:2.36функция убывает\n",
      "на отрезке (2.36:2.87функция возрастает\n",
      "на отрезке (2.87:3.14функция убывает\n"
     ]
    }
   ],
   "source": [
    "for i in range(len(rez_solve_yd)-1):\n",
    "    rez=yd.subs(x,(rez_solve_yd[i+1]+rez_solve_yd[i])/2.0)\n",
    "    if rez>0:\n",
    "        print(f\"на отрезке ({round(rez_solve_yd[i].evalf(),2)}:{round(rez_solve_yd[i+1].evalf(),2)}функция возрастает\")\n",
    "    else:\n",
    "        print(f\"на отрезке ({round(rez_solve_yd[i].evalf(),2)}:{round(rez_solve_yd[i+1].evalf(),2)}функция убывает\")    "
   ]
  },
  {
   "cell_type": "markdown",
   "id": "2506da0f",
   "metadata": {},
   "source": [
    "вычисляем вершину"
   ]
  },
  {
   "cell_type": "code",
   "execution_count": 33,
   "id": "51375ca2",
   "metadata": {},
   "outputs": [
    {
     "name": "stdout",
     "output_type": "stream",
     "text": [
      "y_max= 0.404\n",
      "y_min= -0.404\n"
     ]
    }
   ],
   "source": [
    "y_max=maximum(y,x,Interval(-pi,pi)).evalf()\n",
    "y_min=minimum(y,x,Interval(-pi,pi)).evalf()\n",
    "print('y_max=',round(y_max,3))\n",
    "print('y_min=',round(y_min,3))\n"
   ]
  },
  {
   "cell_type": "code",
   "execution_count": null,
   "id": "433e49b3",
   "metadata": {},
   "outputs": [],
   "source": []
  },
  {
   "cell_type": "code",
   "execution_count": null,
   "id": "8745cdc9",
   "metadata": {},
   "outputs": [],
   "source": []
  },
  {
   "cell_type": "code",
   "execution_count": null,
   "id": "1a3d46cb",
   "metadata": {},
   "outputs": [],
   "source": []
  },
  {
   "cell_type": "code",
   "execution_count": null,
   "id": "35e34f26",
   "metadata": {},
   "outputs": [],
   "source": []
  }
 ],
 "metadata": {
  "kernelspec": {
   "display_name": "Python 3 (ipykernel)",
   "language": "python",
   "name": "python3"
  },
  "language_info": {
   "codemirror_mode": {
    "name": "ipython",
    "version": 3
   },
   "file_extension": ".py",
   "mimetype": "text/x-python",
   "name": "python",
   "nbconvert_exporter": "python",
   "pygments_lexer": "ipython3",
   "version": "3.9.12"
  }
 },
 "nbformat": 4,
 "nbformat_minor": 5
}
